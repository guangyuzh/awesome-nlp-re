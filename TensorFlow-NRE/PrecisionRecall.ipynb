{
 "cells": [
  {
   "cell_type": "markdown",
   "metadata": {},
   "source": [
    "# DL Data and Result Analysis"
   ]
  },
  {
   "cell_type": "markdown",
   "metadata": {},
   "source": [
    "**Files that are needed in this notebook:**"
   ]
  },
  {
   "cell_type": "code",
   "execution_count": 4,
   "metadata": {
    "collapsed": true
   },
   "outputs": [],
   "source": [
    "allprob_filename = './out/allprob_iter_64000.npy'\n",
    "allans_filename = './data/allans.npy'\n",
    "target_relations_training_filename = './data/train_y.npy'\n",
    "relation2id_filename = './origin_data/relation2id.txt'\n",
    "testdata_filename = './origin_data/test.txt'"
   ]
  },
  {
   "cell_type": "markdown",
   "metadata": {},
   "source": [
    "Contents:\n",
    "0. Overall Average Precision Score\n",
    "1. Relation Distributions:  \n",
    "i. Relation Distribution across Test dataset  \n",
    "ii. Relation Distribution across Training dataset  \n",
    "2. Precision and Recall for each relations\n",
    "3. Probability distributions the model assigns to each example"
   ]
  },
  {
   "cell_type": "code",
   "execution_count": 5,
   "metadata": {
    "collapsed": true
   },
   "outputs": [],
   "source": [
    "import numpy as np\n",
    "import matplotlib.pyplot as plt\n",
    "from collections import defaultdict"
   ]
  },
  {
   "cell_type": "code",
   "execution_count": 6,
   "metadata": {},
   "outputs": [
    {
     "name": "stdout",
     "output_type": "stream",
     "text": [
      "(13265, 90)\n",
      "(13265, 90)\n"
     ]
    }
   ],
   "source": [
    "# Verify consistency:\n",
    "allprob = np.load(allprob_filename)\n",
    "allans = np.load(allans_filename)\n",
    "probs = np.reshape(allprob,(-1,90))\n",
    "ans   = np.reshape(allans, (-1,90)) # 90 positions to represent 91 relations, all-zero for NA.\n",
    "print(probs.shape)\n",
    "print(ans.shape)"
   ]
  },
  {
   "cell_type": "markdown",
   "metadata": {},
   "source": [
    "## 1. Overall Average Precision Score:"
   ]
  },
  {
   "cell_type": "code",
   "execution_count": 7,
   "metadata": {},
   "outputs": [
    {
     "data": {
      "text/plain": [
       "0.7522063100113775"
      ]
     },
     "execution_count": 7,
     "metadata": {},
     "output_type": "execute_result"
    }
   ],
   "source": [
    "from sklearn.metrics import average_precision_score\n",
    "average_precision_score(allans, allprob)"
   ]
  },
  {
   "cell_type": "markdown",
   "metadata": {},
   "source": [
    "## 2. Relation Distributions:\n",
    "Relations is represented by one-hot encoding.  \n",
    "0 means NA.  \n",
    "7 means height.  \n",
    "8 means position.  \n",
    "10 means youthclubs.  \n",
    "**Neither training data nor testing data includes complete list of relations.**\n",
    "### 2.1 Relation Distribution across Test dataset:"
   ]
  },
  {
   "cell_type": "code",
   "execution_count": 8,
   "metadata": {},
   "outputs": [
    {
     "name": "stdout",
     "output_type": "stream",
     "text": [
      "defaultdict(<class 'int'>, {7: 4136, 12: 1468, 1: 1272, 39: 115, 38: 119, 2: 858, 50: 58, 22: 99, 51: 867, 66: 232, 55: 184, 56: 194, 20: 176, 58: 129, 6: 792, 80: 304, 75: 124, 77: 28, 65: 10, 78: 31, 28: 535, 44: 3, 64: 343, 43: 234, 84: 18, 24: 25, 88: 6, 18: 319, 83: 229, 63: 16, 42: 136, 25: 105, 37: 65, 81: 1, 40: 4, 52: 69, 36: 2, 76: 92, 8: 12, 79: 28, 23: 2, 74: 67, 35: 1, 10: 2, 89: 1, 85: 2, 4: 1, 62: 1})\n"
     ]
    },
    {
     "data": {
      "image/png": "[encoded data removed]",
      "text/plain": [
       "<matplotlib.figure.Figure at 0x7fcae7309588>"
      ]
     },
     "metadata": {},
     "output_type": "display_data"
    }
   ],
   "source": [
    "ans_distro = defaultdict(int)\n",
    "for a in [np.where(r==1)[0] for r in ans]:\n",
    "    for r_id in a:\n",
    "        ans_distro[r_id] += 1\n",
    "        \n",
    "print(ans_distro)\n",
    "\n",
    "plt.bar(list(ans_distro.keys()), ans_distro.values(), width=1,color='g')\n",
    "plt.title('Histogram of Relations in Ground Truth Testing Data')\n",
    "plt.xlabel('Relation ID')\n",
    "plt.ylabel('Repetitions in Test Data')\n",
    "plt.grid(True)\n",
    "plt.show()"
   ]
  },
  {
   "cell_type": "markdown",
   "metadata": {},
   "source": [
    "### 2.2 Relation Distribution across Training Dataset:"
   ]
  },
  {
   "cell_type": "code",
   "execution_count": 9,
   "metadata": {},
   "outputs": [
    {
     "name": "stdout",
     "output_type": "stream",
     "text": [
      "defaultdict(<class 'int'>, {8: 31659, 13: 11675, 2: 10102, 51: 437, 52: 7068, 53: 465, 29: 4305, 65: 2544, 85: 214, 84: 1692, 3: 7424, 81: 2762, 7: 6394, 44: 2026, 80: 209, 23: 865, 19: 2519, 56: 1257, 57: 1328, 21: 1177, 59: 875, 43: 1061, 26: 1122, 76: 990, 25: 187, 75: 607, 67: 1824, 40: 1032, 39: 1042, 38: 647, 77: 646, 79: 286, 64: 244, 41: 36, 78: 223, 66: 89, 9: 107, 36: 24, 50: 9, 45: 37, 34: 2, 35: 1, 24: 3, 82: 5, 12: 1, 28: 2, 11: 1, 48: 1, 49: 2, 58: 3, 37: 16, 89: 2, 86: 20, 5: 4, 10: 1, 17: 2, 62: 1, 22: 1, 27: 2, 63: 1, 46: 1})\n"
     ]
    },
    {
     "data": {
      "image/png": "[encoded data removed]",
      "text/plain": [
       "<matplotlib.figure.Figure at 0x7fcad8df22e8>"
      ]
     },
     "metadata": {},
     "output_type": "display_data"
    }
   ],
   "source": [
    "train_y = np.load(target_relations_training_filename)\n",
    "train_distro = defaultdict(int)\n",
    "for a in [np.where(r==1)[0] for r in train_y]:\n",
    "    for r_id in a:\n",
    "        train_distro[r_id] += 1\n",
    "        \n",
    "print(train_distro)\n",
    "\n",
    "plt.bar(list(train_distro.keys()), train_distro.values(), width=1,color='g')\n",
    "plt.title('Histogram of Relations in Ground Truth Training Data')\n",
    "plt.xlabel('Relation ID')\n",
    "plt.ylabel('Repetitions in Training Data')\n",
    "plt.grid(True)\n",
    "plt.show()"
   ]
  },
  {
   "cell_type": "markdown",
   "metadata": {},
   "source": [
    "## 3. Precision and Recall for each relations\n",
    "In the test dataset, for each relationship R:  \n",
    "- A = number of correctly matched R's from allprobs to allans.\n",
    "- B = number of R's that has not been matched by allprobs.\n",
    "- C = number of R's that given by allprobs but actually are not in allans."
   ]
  },
  {
   "cell_type": "code",
   "execution_count": 10,
   "metadata": {
    "collapsed": true
   },
   "outputs": [],
   "source": [
    "# reading relation2id.txt into dictionary\n",
    "relation2id = {}\n",
    "relationfile = open(relation2id_filename,'r')\n",
    "while True:\n",
    "    content = relationfile.readline()\n",
    "    if content == '':\n",
    "        break\n",
    "    content = content.strip().split()\n",
    "    relation2id[content[0]] = int(content[1])\n",
    "relationfile.close()\n",
    "rid2relation = dict((v,k) for k,v in relation2id.items())"
   ]
  },
  {
   "cell_type": "code",
   "execution_count": 11,
   "metadata": {
    "collapsed": true
   },
   "outputs": [],
   "source": [
    "# Softmax over probs (from allprobs):\n",
    "r_probs = []\n",
    "for p in probs:\n",
    "    r_probs.append(np.argmax(p))"
   ]
  },
  {
   "cell_type": "code",
   "execution_count": 12,
   "metadata": {
    "collapsed": true
   },
   "outputs": [],
   "source": [
    "# Convert one-plus-hot encoded ans to relation-IDs list\n",
    "ans_rs = list()\n",
    "for a in [np.where(r==1)[0] for r in ans]:\n",
    "    current_relations = list()\n",
    "    for r_id in a:\n",
    "        current_relations.append(r_id)\n",
    "    ans_rs.append(current_relations)"
   ]
  },
  {
   "cell_type": "code",
   "execution_count": 13,
   "metadata": {},
   "outputs": [
    {
     "data": {
      "text/plain": [
       "\"\\nfor rid in A:\\n    anb = AnB[i]\\n    anc = AnC[i]\\n    a   = A[i]\\n    if not (a <= anb and a <= anc):\\n        print('error!')\\nprint('All TP, FP, TN, FN has been calculated and verified for each realtion...')\\n\""
      ]
     },
     "execution_count": 13,
     "metadata": {},
     "output_type": "execute_result"
    }
   ],
   "source": [
    "# Now we have r_probs, ans_rs, and relation2id, we can calculate PR for each relations:\n",
    "AnB = ans_distro\n",
    "AnC = defaultdict(int)\n",
    "for a in r_probs:\n",
    "    AnC[a] += 1\n",
    "    \n",
    "A = defaultdict(int)\n",
    "for i in range(len(r_probs)):\n",
    "    predict = r_probs[i]\n",
    "    truth   = ans_rs[i]\n",
    "    if predict in truth:\n",
    "        A[predict] += 1\n",
    "\n",
    "# Verify that A is always lessOrEqual to both AnB and AnC for each rid\n",
    "'''\n",
    "for rid in A:\n",
    "    anb = AnB[i]\n",
    "    anc = AnC[i]\n",
    "    a   = A[i]\n",
    "    if not (a <= anb and a <= anc):\n",
    "        print('error!')\n",
    "print('All TP, FP, TN, FN has been calculated and verified for each realtion...')\n",
    "'''"
   ]
  },
  {
   "cell_type": "code",
   "execution_count": 14,
   "metadata": {
    "collapsed": true
   },
   "outputs": [],
   "source": [
    "PR_Result = {}\n",
    "for rid in A:\n",
    "    anb = AnB[rid]\n",
    "    anc = AnC[rid]\n",
    "    a   = A[rid]\n",
    "    precision = a/anc\n",
    "    recall    = a/anb\n",
    "    f1        = 2*(precision*recall)/(precision+recall)\n",
    "    PR_Result[rid] = [precision, recall, f1]"
   ]
  },
  {
   "cell_type": "code",
   "execution_count": 15,
   "metadata": {},
   "outputs": [
    {
     "data": {
      "text/plain": [
       "{1: [0.8421450151057401, 0.8765723270440252, 0.8590138674884438],\n",
       " 2: [0.8834498834498834, 0.8834498834498834, 0.8834498834498834],\n",
       " 6: [0.3032128514056225, 0.19065656565656566, 0.23410852713178298],\n",
       " 7: [0.7709190672153635, 0.8152804642166345, 0.7924794359576968],\n",
       " 12: [0.47135955831608006, 0.4652588555858311, 0.46828933836133013],\n",
       " 18: [0.7904761904761904, 0.780564263322884, 0.7854889589905364],\n",
       " 20: [0.3395061728395062, 0.3125, 0.3254437869822485],\n",
       " 22: [0.2641509433962264, 0.2828282828282828, 0.2731707317073171],\n",
       " 24: [0.125, 0.04, 0.06060606060606061],\n",
       " 25: [0.3, 0.37142857142857144, 0.33191489361702126],\n",
       " 28: [0.27920792079207923, 0.2635514018691589, 0.27115384615384613],\n",
       " 37: [0.26436781609195403, 0.35384615384615387, 0.3026315789473684],\n",
       " 38: [0.49572649572649574, 0.48739495798319327, 0.4915254237288135],\n",
       " 39: [0.45569620253164556, 0.3130434782608696, 0.37113402061855677],\n",
       " 42: [0.6068376068376068, 0.5220588235294118, 0.5612648221343873],\n",
       " 43: [0.2261904761904762, 0.24358974358974358, 0.2345679012345679],\n",
       " 50: [0.734375, 0.8103448275862069, 0.7704918032786885],\n",
       " 51: [0.7507598784194529, 0.8546712802768166, 0.7993527508090615],\n",
       " 52: [0.15384615384615385, 0.028985507246376812, 0.04878048780487805],\n",
       " 55: [0.3956043956043956, 0.391304347826087, 0.39344262295081966],\n",
       " 56: [0.43243243243243246, 0.16494845360824742, 0.23880597014925375],\n",
       " 58: [0.3780487804878049, 0.24031007751937986, 0.29383886255924174],\n",
       " 63: [0.2727272727272727, 0.1875, 0.2222222222222222],\n",
       " 64: [0.5112359550561798, 0.5306122448979592, 0.5207439198855509],\n",
       " 65: [0.14285714285714285, 0.1, 0.11764705882352941],\n",
       " 66: [0.6293706293706294, 0.7758620689655172, 0.694980694980695],\n",
       " 74: [0.43478260869565216, 0.29850746268656714, 0.35398230088495575],\n",
       " 75: [0.5948275862068966, 0.5564516129032258, 0.575],\n",
       " 76: [0.45588235294117646, 0.33695652173913043, 0.3875],\n",
       " 77: [0.125, 0.03571428571428571, 0.05555555555555556],\n",
       " 78: [0.6285714285714286, 0.7096774193548387, 0.6666666666666666],\n",
       " 79: [0.38461538461538464, 0.17857142857142858, 0.24390243902439027],\n",
       " 80: [0.8713826366559485, 0.8914473684210527, 0.88130081300813],\n",
       " 83: [0.6666666666666666, 0.62882096069869, 0.647191011235955],\n",
       " 84: [1.0, 0.05555555555555555, 0.10526315789473684],\n",
       " 85: [1.0, 1.0, 1.0]}"
      ]
     },
     "execution_count": 15,
     "metadata": {},
     "output_type": "execute_result"
    }
   ],
   "source": [
    "PR_Result"
   ]
  },
  {
   "cell_type": "code",
   "execution_count": 16,
   "metadata": {
    "collapsed": true
   },
   "outputs": [],
   "source": [
    "np.save('./analytics/PR_Relations.npy',PR_Result)"
   ]
  },
  {
   "cell_type": "code",
   "execution_count": 17,
   "metadata": {},
   "outputs": [
    {
     "data": {
      "image/png": "[encoded data removed]",
      "text/plain": [
       "<matplotlib.figure.Figure at 0x7fcad8cc5128>"
      ]
     },
     "metadata": {},
     "output_type": "display_data"
    }
   ],
   "source": [
    "def f(t):\n",
    "    return np.exp(-t) * np.cos(2*np.pi*t)\n",
    "\n",
    "keys = np.fromiter(iter(PR_Result.keys()), dtype=int)\n",
    "precision = []\n",
    "recall = []\n",
    "f1 = []\n",
    "for i in PR_Result:\n",
    "    precision.append(PR_Result[i][0])\n",
    "    recall.append(PR_Result[i][1])\n",
    "    f1.append(PR_Result[i][2])\n",
    "precision = np.asarray(precision, dtype=np.float32)\n",
    "recall = np.asarray(recall, dtype=np.float32)\n",
    "f1 = np.asarray(f1, dtype=np.float32)\n",
    "\n",
    "plt.figure(1)\n",
    "plt.subplot(311)\n",
    "plt.bar(keys, precision, width=1,color='g')\n",
    "\n",
    "plt.subplot(312)\n",
    "plt.bar(keys, recall, width=1,color='r')\n",
    "\n",
    "plt.subplot(313)\n",
    "plt.bar(keys, f1, width=1,color='b')\n",
    "\n",
    "plt.show()"
   ]
  },
  {
   "cell_type": "markdown",
   "metadata": {},
   "source": [
    "## 4. Probability distributions the model assigns to each example"
   ]
  },
  {
   "cell_type": "code",
   "execution_count": 18,
   "metadata": {},
   "outputs": [
    {
     "data": {
      "text/plain": [
       "array([[  1.56337010e-05,   1.94516600e-04,   1.58340367e-06, ...,\n",
       "          1.56337010e-05,   4.15822287e-04,   1.56337010e-05],\n",
       "       [  9.85509541e-09,   2.37885569e-08,   1.54357558e-08, ...,\n",
       "          9.85509541e-09,   9.16592455e-08,   9.85509541e-09],\n",
       "       [  5.70405234e-07,   1.24763808e-08,   6.15619797e-07, ...,\n",
       "          5.70405234e-07,   4.57385937e-07,   5.70405234e-07],\n",
       "       ..., \n",
       "       [  8.77891715e-09,   1.07028986e-09,   3.71956972e-08, ...,\n",
       "          8.77891715e-09,   1.16642029e-09,   8.77891715e-09],\n",
       "       [  1.59368287e-08,   2.84193584e-06,   2.93459190e-09, ...,\n",
       "          1.59368287e-08,   3.30894956e-08,   1.59368287e-08],\n",
       "       [  2.54215252e-07,   9.41269900e-05,   1.77742766e-06, ...,\n",
       "          2.54215252e-07,   4.58095229e-07,   2.54215252e-07]], dtype=float32)"
      ]
     },
     "execution_count": 18,
     "metadata": {},
     "output_type": "execute_result"
    }
   ],
   "source": [
    "probs "
   ]
  },
  {
   "cell_type": "code",
   "execution_count": 19,
   "metadata": {
    "collapsed": true
   },
   "outputs": [],
   "source": [
    "np.save('./analytics/ProbDistro_TestData.npy',probs)"
   ]
  },
  {
   "cell_type": "markdown",
   "metadata": {},
   "source": [
    "## 5. Add Biography Index for Global Constraint on Relations\n",
    "\n",
    "# TO-DO:\n",
    "!!!Mistake!!!: The relation2id.txt file is generated with the training dataset, which does not consider the test dataset! Missing relations in the testing.    \n",
    "Currently affacted relation class is 'shoots', which appear in testing dataset, but not in traing relation2id.txt file."
   ]
  },
  {
   "cell_type": "code",
   "execution_count": 20,
   "metadata": {
    "collapsed": true
   },
   "outputs": [],
   "source": [
    "bio2id = {} # unique BID for each biography\n",
    "bid_index = 0\n",
    "testfile_dict = {} # testfile_row: [bio_name, r, sentence]\n",
    "testfile_row = 0\n",
    "\n",
    "testfile = open(testdata_filename,'r')\n",
    "#\n",
    "# One row in test.txt looks like:\n",
    "# ['SH', 'SH', 'renato_campos', 'defender', 'position', \n",
    "#  'renato campos born september 5 , 1980 is a retired angolan football player .he has played for angola national team . ###END###']\n",
    "#\n",
    "while True:\n",
    "    content = testfile.readline()\n",
    "    if content == '':\n",
    "        break\n",
    "    content = content.strip().split('\\t')\n",
    "    bio_name = content[2]\n",
    "    r = content[4]\n",
    "    bio_sentence = content[5]\n",
    "    testfile_dict[testfile_row] = [bio_name, r, bio_sentence]\n",
    "    testfile_row += 1\n",
    "    if bio_name not in bio2id.keys():\n",
    "        bio2id[bio_name] = bid_index\n",
    "        bid_index += 1\n",
    "\n",
    "how_many_missing_relations = 0\n",
    "testfile_dict2 = {}    # row: [bid, rid, sentence]    \n",
    "for arow in testfile_dict:\n",
    "    x = testfile_dict[arow]\n",
    "    bid = bio2id[x[0]]\n",
    "    if x[1] not in relation2id.keys():\n",
    "        print(x[0]+' '+x[1])\n",
    "        how_many_missing_relations += 1\n",
    "    else:\n",
    "        rid = relation2id[x[1]]\n",
    "        testfile_dict2[arow] = [bid,rid-1,x[2]]\n",
    "\n",
    "if how_many_missing_relations != 0:\n",
    "    print('Warning! There are '+str(how_many_missing_relations)+' relations missed from the test dataset! Check out relation2id.txt file!')"
   ]
  },
  {
   "cell_type": "code",
   "execution_count": 21,
   "metadata": {
    "collapsed": true
   },
   "outputs": [],
   "source": [
    "ans_i = 0\n",
    "i = 0\n",
    "\n",
    "bid_rid_prob_sentence = []\n",
    "bid_rid_prob_sentence_np = np.empty\n",
    "\n",
    "\n",
    "while i < len(testfile_dict2):\n",
    "    if (testfile_dict2[i][1]) in ans_rs[ans_i]:\n",
    "        bid = testfile_dict2[i][0]\n",
    "        rid = testfile_dict2[i][1]\n",
    "        prob = probs[ans_i]\n",
    "        sentence = testfile_dict2[i][2]\n",
    "        bid_rid_prob_sentence.append([bid,rid,prob,sentence])\n",
    "        ans_i += 1\n",
    "        i += 1\n",
    "    elif len(ans_rs[ans_i]) == 0:\n",
    "        ans_i += 1\n",
    "    else:\n",
    "        i += 1"
   ]
  },
  {
   "cell_type": "code",
   "execution_count": 22,
   "metadata": {},
   "outputs": [
    {
     "data": {
      "text/plain": [
       "13147"
      ]
     },
     "execution_count": 22,
     "metadata": {},
     "output_type": "execute_result"
    }
   ],
   "source": [
    "len(bid_rid_prob_sentence)"
   ]
  },
  {
   "cell_type": "code",
   "execution_count": 23,
   "metadata": {},
   "outputs": [
    {
     "data": {
      "text/plain": [
       "13265"
      ]
     },
     "execution_count": 23,
     "metadata": {},
     "output_type": "execute_result"
    }
   ],
   "source": [
    "len(ans_rs)"
   ]
  },
  {
   "cell_type": "code",
   "execution_count": 24,
   "metadata": {},
   "outputs": [
    {
     "name": "stdout",
     "output_type": "stream",
     "text": [
      "There are empty groud-truth relation in ans_rs: 118\n",
      "13265 - 13147 = 118\n"
     ]
    }
   ],
   "source": [
    "empty_in_ans_rs = 0\n",
    "for i in ans_rs:\n",
    "    if len(i) == 0:\n",
    "        empty_in_ans_rs += 1\n",
    "print('There are empty groud-truth relation in ans_rs: ' + str(empty_in_ans_rs))\n",
    "print(str(len(ans_rs)) + ' - ' + str(len(bid_rid_prob_sentence)) + ' = ' + str(len(ans_rs) - len(bid_rid_prob_sentence)))"
   ]
  },
  {
   "cell_type": "markdown",
   "metadata": {},
   "source": [
    "### Result available for IR project\n",
    "- *bid_rid_prob_sentence* is an array of array.  \n",
    "- Each entry is also an array of length **4**.\n",
    "- **[biography_id, relation_id, predicted_probability_distribution, original_sent_sentence]**\n",
    "\n",
    "#### Example:"
   ]
  },
  {
   "cell_type": "code",
   "execution_count": 25,
   "metadata": {},
   "outputs": [
    {
     "data": {
      "text/plain": [
       "[0, 7, array([  1.56337010e-05,   1.94516600e-04,   1.58340367e-06,\n",
       "          1.56337010e-05,   1.66337213e-05,   1.56337010e-05,\n",
       "          7.30791613e-02,   8.32996726e-01,   6.84211118e-05,\n",
       "          1.32623376e-04,   5.85397265e-06,   4.04730818e-05,\n",
       "          3.45547055e-03,   1.56337010e-05,   1.56337010e-05,\n",
       "          1.56337010e-05,   1.84580449e-06,   1.56337010e-05,\n",
       "          8.31719808e-06,   1.56337010e-05,   3.04376590e-04,\n",
       "          1.04517203e-05,   1.20204361e-03,   4.10378161e-05,\n",
       "          3.16219492e-04,   4.16630059e-02,   1.28215779e-05,\n",
       "          3.19493824e-06,   2.60710418e-02,   1.56337010e-05,\n",
       "          1.56337010e-05,   1.56337010e-05,   1.56337010e-05,\n",
       "          9.52556547e-07,   6.75233514e-06,   2.33430592e-06,\n",
       "          9.45519241e-06,   1.25460676e-03,   1.10694685e-03,\n",
       "          2.38832043e-04,   8.32763908e-05,   1.56337010e-05,\n",
       "          5.25011004e-08,   5.89197189e-05,   3.02585636e-06,\n",
       "          6.12477379e-06,   1.56337010e-05,   1.02071535e-05,\n",
       "          2.50829453e-05,   4.22589846e-06,   1.57225963e-06,\n",
       "          2.33804549e-05,   5.50889945e-06,   1.56337010e-05,\n",
       "          1.56337010e-05,   1.60007112e-04,   3.01557360e-04,\n",
       "          6.56913151e-04,   5.95086254e-04,   1.56337010e-05,\n",
       "          1.56337010e-05,   2.62339090e-05,   2.97398437e-05,\n",
       "          1.30899745e-04,   4.71698679e-03,   2.36784254e-05,\n",
       "          9.65104997e-03,   1.56337010e-05,   1.56337010e-05,\n",
       "          1.56337010e-05,   1.56337010e-05,   1.56337010e-05,\n",
       "          1.56337010e-05,   1.56337010e-05,   3.22024391e-07,\n",
       "          1.84658813e-04,   1.02841987e-05,   4.35744914e-06,\n",
       "          5.29738645e-06,   1.61555761e-06,   1.51687373e-05,\n",
       "          1.32201478e-06,   1.56337010e-05,   1.21144141e-04,\n",
       "          1.16163410e-05,   9.83825004e-08,   1.56337010e-05,\n",
       "          1.56337010e-05,   4.15822287e-04,   1.56337010e-05], dtype=float32), 'renato campos born september 5 , 1980 is a retired angolan football player .he has played for angola national team . ###END###']"
      ]
     },
     "execution_count": 25,
     "metadata": {},
     "output_type": "execute_result"
    }
   ],
   "source": [
    "bid_rid_prob_sentence[0]"
   ]
  },
  {
   "cell_type": "markdown",
   "metadata": {},
   "source": [
    "#### For example, when bid = 8, there are two entry from the test dataset:"
   ]
  },
  {
   "cell_type": "code",
   "execution_count": 26,
   "metadata": {},
   "outputs": [
    {
     "name": "stdout",
     "output_type": "stream",
     "text": [
      "8\t7\tleandro `` chichi '' chichizola ; born 27 march 1990 is an argentine footballer who plays as a goalkeeper for italian serie b club spezia calcio . ###END###\n",
      "8\t12\tleandro `` chichi '' chichizola ; born 27 march 1990 is an argentine footballer who plays as a goalkeeper for italian serie b club spezia calcio . ###END###\n"
     ]
    }
   ],
   "source": [
    "bid = 8\n",
    "for i in bid_rid_prob_sentence:\n",
    "    if i[0] == bid:\n",
    "        print(str(i[0])+\"\\t\"+str(i[1])+\"\\t\"+i[3])"
   ]
  },
  {
   "cell_type": "markdown",
   "metadata": {},
   "source": [
    "#### Write result to file:"
   ]
  },
  {
   "cell_type": "code",
   "execution_count": 46,
   "metadata": {},
   "outputs": [],
   "source": [
    "# Use | as splitter:\n",
    "bid_rid_p_s = open(\"./bid_rid_p_s.csv\",'w') \n",
    "for entry in bid_rid_prob_sentence:\n",
    "    bid = entry[0]\n",
    "    rid = entry[1]\n",
    "    prob = entry[2]\n",
    "    sen = entry[3]\n",
    "    bid_rid_p_s.write(str(bid))\n",
    "    bid_rid_p_s.write('|')\n",
    "    bid_rid_p_s.write(str(rid))\n",
    "    bid_rid_p_s.write('|')\n",
    "    bid_rid_p_s.write(np.array_str(prob, max_line_width=2000))\n",
    "    bid_rid_p_s.write('|')\n",
    "    bid_rid_p_s.write(sen)\n",
    "    bid_rid_p_s.write('\\n')\n",
    "    \n",
    "bid_rid_p_s.close()"
   ]
  },
  {
   "cell_type": "code",
   "execution_count": null,
   "metadata": {
    "collapsed": true
   },
   "outputs": [],
   "source": []
  }
 ],
 "metadata": {
  "kernelspec": {
   "display_name": "Python [default]",
   "language": "python",
   "name": "python3"
  },
  "language_info": {
   "codemirror_mode": {
    "name": "ipython",
    "version": 3
   },
   "file_extension": ".py",
   "mimetype": "text/x-python",
   "name": "python",
   "nbconvert_exporter": "python",
   "pygments_lexer": "ipython3",
   "version": "3.6.2"
  }
 },
 "nbformat": 4,
 "nbformat_minor": 2
}
