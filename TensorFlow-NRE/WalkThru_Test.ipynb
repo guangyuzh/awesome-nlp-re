{
 "cells": [
  {
   "cell_type": "code",
   "execution_count": 1,
   "metadata": {
    "collapsed": true
   },
   "outputs": [],
   "source": [
    "import numpy as np\n",
    "import sys\n",
    "\n",
    "class Unbuffered(object):\n",
    "   def __init__(self, stream):\n",
    "       self.stream = stream\n",
    "   def write(self, data):\n",
    "       self.stream.write(data)\n",
    "       self.stream.flush()\n",
    "   def writelines(self, datas):\n",
    "       self.stream.writelines(datas)\n",
    "       self.stream.flush()\n",
    "   def __getattr__(self, attr):\n",
    "       return getattr(self.stream, attr)\n",
    "\n",
    "sys.stdout = Unbuffered(sys.stdout)\n",
    "\n",
    "\n",
    "#embedding the position \n",
    "def pos_embed(x):\n",
    "    if x < -60:\n",
    "        return 0\n",
    "    if x >= -60 and x <= 60:\n",
    "        return x+61\n",
    "    if x > 60:\n",
    "        return 122\n",
    "#find the index of x in y, if x not in y, return -1\n",
    "def find_index(x,y):\n",
    "    flag = -1\n",
    "    for i in range(len(y)):\n",
    "        if x != y[i]:\n",
    "            continue\n",
    "        else:\n",
    "            return i\n",
    "    return flag"
   ]
  },
  {
   "cell_type": "code",
   "execution_count": 3,
   "metadata": {},
   "outputs": [
    {
     "name": "stdout",
     "output_type": "stream",
     "text": [
      "reading word embedding data...\n",
      "reading relation to id\n"
     ]
    }
   ],
   "source": [
    "print('reading word embedding data...')\n",
    "vec = []\n",
    "word2id = {}\n",
    "f = open('./origin_data/vec.txt')\n",
    "f.readline()\n",
    "while True:\n",
    "    content = f.readline()\n",
    "    if content == '':\n",
    "        break\n",
    "    content = content.strip().split()\n",
    "    word2id[content[0]] = len(word2id)\n",
    "    content = content[1:]\n",
    "    content = [(float)(i) for i in content]\n",
    "    vec.append(content)\n",
    "f.close()\n",
    "word2id['UNK'] = len(word2id)\n",
    "word2id['BLANK'] = len(word2id)\n",
    "\n",
    "dim = 50\n",
    "vec.append(np.random.normal(size=dim,loc=0,scale=0.05))\n",
    "vec.append(np.random.normal(size=dim,loc=0,scale=0.05))\n",
    "vec = np.array(vec,dtype=np.float32)\n",
    "\n",
    "\n",
    "print('reading relation to id')\n",
    "relation2id = {}\n",
    "f = open('./origin_data/relation2id.txt','r')\n",
    "while True:\n",
    "    content = f.readline()\n",
    "    if content == '':\n",
    "        break\n",
    "    content = content.strip().split()\n",
    "    relation2id[content[0]] = int(content[1])\n",
    "f.close()\n",
    "\n",
    "#length of sentence is 70\n",
    "fixlen = 70\n",
    "#max length of position embedding is 60 (-60~+60)\n",
    "maxlen = 60\n",
    "\n",
    "train_sen = {} #{entity pair:[[[label1-sentence 1],[label1-sentence 2]...],[[label2-sentence 1],[label2-sentence 2]...]}\n",
    "train_ans = {} #{entity pair:[label1,label2,...]} the label is one-hot vector\n"
   ]
  },
  {
   "cell_type": "code",
   "execution_count": 94,
   "metadata": {},
   "outputs": [
    {
     "name": "stdout",
     "output_type": "stream",
     "text": [
      "reading test data ...\n"
     ]
    }
   ],
   "source": [
    "print('reading test data ...')\n",
    "\n",
    "test_sen = {} #{entity pair:[[sentence 1],[sentence 2]...]}\n",
    "test_ans = {} #{entity pair:[labels,...]} the labels is N-hot vector (N is the number of multi-label)\n",
    "\n",
    "f = open('./origin_data/test.txt','r')\n",
    "\n",
    "counter = 0\n",
    "\n",
    "while True:\n",
    "    content = f.readline()\n",
    "    \n",
    "    if content == '':\n",
    "        break\n",
    "\n",
    "    content = content.strip().split()\n",
    "    en1 = content[2]\n",
    "    en2 = content[3]\n",
    "    relation = 0\n",
    "    if content[4] not in relation2id:\n",
    "        relation = relation2id['NA']\n",
    "    else:\n",
    "        relation = relation2id[content[4]]\n",
    "        \n",
    "    tup = (en1,en2)    \n",
    "    \n",
    "    if tup not in test_sen:\n",
    "        test_sen[tup]=[]\n",
    "        y_id = relation\n",
    "        label_tag = 0\n",
    "        label = [0 for i in range(len(relation2id))]\n",
    "        label[y_id] = 1\n",
    "        test_ans[tup] = label\n",
    "    else:\n",
    "        y_id = relation\n",
    "        test_ans[tup][y_id] = 1\n",
    "    \n",
    "    sentence = content[5:-1] # remove ending tag\n",
    "    \n",
    "    # entity positions\n",
    "    en1pos = 0\n",
    "    en2pos = 0\n",
    "\n",
    "    # need improvement from the wiki bio dataset\n",
    "    for i in range(len(sentence)):\n",
    "        if sentence[i] == en1:\n",
    "            en1pos = i\n",
    "        if sentence[i] == en2:\n",
    "            en2pos = i\n",
    "    output = []\n",
    "\n",
    "    for i in range(fixlen):\n",
    "        word = word2id['BLANK']\n",
    "        rel_e1 = pos_embed(i - en1pos)\n",
    "        rel_e2 = pos_embed(i - en2pos)\n",
    "        output.append([word,rel_e1,rel_e2])\n",
    "    \n",
    "#     print(output)\n",
    "#     print(len(output))\n",
    "    \n",
    "    for i in range(min(fixlen,len(sentence))):\n",
    "        word = 0\n",
    "        if sentence[i] not in word2id:\n",
    "            word = word2id['UNK']\n",
    "        else:\n",
    "            word = word2id[sentence[i]]\n",
    "        output[i][0] = word\n",
    "\n",
    "#     print('=====')\n",
    "#     print(output[0][0])\n",
    "#     print(output[1][0])\n",
    "#     print(len(output))\n",
    "#     print(len(output[0]))\n",
    "\n",
    "    \n",
    "    test_sen[tup].append(output)\n",
    "    \n",
    "#     print('=======')\n",
    "#     print(test_sen)\n",
    "    \n",
    "#     if counter == 0:\n",
    "#         break\n",
    "#     else:\n",
    "#         counter += 1"
   ]
  },
  {
   "cell_type": "code",
   "execution_count": 114,
   "metadata": {},
   "outputs": [
    {
     "data": {
      "text/plain": [
       "91"
      ]
     },
     "execution_count": 114,
     "metadata": {},
     "output_type": "execute_result"
    }
   ],
   "source": [
    "len(relation2id)"
   ]
  },
  {
   "cell_type": "code",
   "execution_count": 97,
   "metadata": {},
   "outputs": [
    {
     "name": "stdout",
     "output_type": "stream",
     "text": [
      "organizing test data\n",
      "13265\n",
      "13265\n"
     ]
    }
   ],
   "source": [
    "test_x = []\n",
    "test_y = []\n",
    "\n",
    "print('organizing test data')\n",
    "f = open('./data/test_q&a.txt','w')\n",
    "temp=0\n",
    "\n",
    "print(len(test_sen))\n",
    "print(len(test_ans))\n",
    "\n",
    "for i in test_sen:\n",
    "    test_x.append(test_sen[i]) # sentence\n",
    "    test_y.append(test_ans[i]) #\n",
    "    tempstr = ''\n",
    "    for j in range(len(test_ans[i])):\n",
    "        if test_ans[i][j]!=0:\n",
    "            tempstr = tempstr+str(j)+'\\t'\n",
    "    f.write(str(temp)+'\\t'+i[0]+'\\t'+i[1]+'\\t'+tempstr+'\\n')\n",
    "    temp+=1\n",
    "f.close()\n",
    "\n",
    "test_x = np.array(test_x)\n",
    "test_y = np.array(test_y)"
   ]
  },
  {
   "cell_type": "code",
   "execution_count": 101,
   "metadata": {},
   "outputs": [
    {
     "name": "stdout",
     "output_type": "stream",
     "text": [
      "('renato_campos', 'defender')\n"
     ]
    }
   ],
   "source": [
    "for i in test_sen:\n",
    "    print(i)\n",
    "    break"
   ]
  },
  {
   "cell_type": "code",
   "execution_count": 103,
   "metadata": {},
   "outputs": [
    {
     "data": {
      "text/plain": [
       "13265"
      ]
     },
     "execution_count": 103,
     "metadata": {},
     "output_type": "execute_result"
    }
   ],
   "source": [
    "len(test_y)"
   ]
  },
  {
   "cell_type": "code",
   "execution_count": 106,
   "metadata": {
    "collapsed": true
   },
   "outputs": [],
   "source": [
    "import numpy as np\n",
    "test_y = np.load('./data/testall_y.npy')"
   ]
  },
  {
   "cell_type": "code",
   "execution_count": 107,
   "metadata": {},
   "outputs": [
    {
     "data": {
      "text/plain": [
       "13265"
      ]
     },
     "execution_count": 107,
     "metadata": {},
     "output_type": "execute_result"
    }
   ],
   "source": [
    "len(test_y)"
   ]
  },
  {
   "cell_type": "code",
   "execution_count": 138,
   "metadata": {},
   "outputs": [
    {
     "name": "stdout",
     "output_type": "stream",
     "text": [
      "13265\n"
     ]
    }
   ],
   "source": [
    "eval_y = []\n",
    "for i in test_y:\n",
    "#     print(i[1:])\n",
    "#     print(len(i[1:]))\n",
    "    eval_y.append(i[1:])\n",
    "    \n",
    "print(len(eval_y))    \n",
    "allans = np.reshape(eval_y,(-1))\n",
    "# np.save('./data/allans.npy',allans)"
   ]
  },
  {
   "cell_type": "code",
   "execution_count": 126,
   "metadata": {},
   "outputs": [
    {
     "data": {
      "text/plain": [
       "list"
      ]
     },
     "execution_count": 126,
     "metadata": {},
     "output_type": "execute_result"
    }
   ],
   "source": [
    "type(eval_y)"
   ]
  },
  {
   "cell_type": "code",
   "execution_count": 139,
   "metadata": {},
   "outputs": [
    {
     "name": "stdout",
     "output_type": "stream",
     "text": [
      "13265\n"
     ]
    }
   ],
   "source": [
    "print(len(eval_y))    "
   ]
  },
  {
   "cell_type": "code",
   "execution_count": 140,
   "metadata": {},
   "outputs": [
    {
     "data": {
      "text/plain": [
       "1193850"
      ]
     },
     "execution_count": 140,
     "metadata": {},
     "output_type": "execute_result"
    }
   ],
   "source": [
    "len(allans)"
   ]
  },
  {
   "cell_type": "code",
   "execution_count": 141,
   "metadata": {},
   "outputs": [
    {
     "data": {
      "text/plain": [
       "1193850"
      ]
     },
     "execution_count": 141,
     "metadata": {},
     "output_type": "execute_result"
    }
   ],
   "source": [
    "13265*90"
   ]
  },
  {
   "cell_type": "code",
   "execution_count": 2,
   "metadata": {},
   "outputs": [],
   "source": [
    "a = [1,2,3]"
   ]
  }
 ],
 "metadata": {
  "kernelspec": {
   "display_name": "Python [default]",
   "language": "python",
   "name": "python3"
  },
  "language_info": {
   "codemirror_mode": {
    "name": "ipython",
    "version": 3
   },
   "file_extension": ".py",
   "mimetype": "text/x-python",
   "name": "python",
   "nbconvert_exporter": "python",
   "pygments_lexer": "ipython3",
   "version": "3.6.2"
  }
 },
 "nbformat": 4,
 "nbformat_minor": 2
}
